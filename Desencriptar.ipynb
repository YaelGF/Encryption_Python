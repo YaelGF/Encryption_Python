{
  "nbformat": 4,
  "nbformat_minor": 0,
  "metadata": {
    "colab": {
      "provenance": [],
      "authorship_tag": "ABX9TyOyZKXRZUDX0FIcRgG8nTPw"
    },
    "kernelspec": {
      "name": "python3",
      "display_name": "Python 3"
    },
    "language_info": {
      "name": "python"
    },
    "accelerator": "GPU"
  },
  "cells": [
    {
      "cell_type": "code",
      "execution_count": null,
      "metadata": {
        "id": "qUEyd43tDNgZ"
      },
      "outputs": [],
      "source": [
        "!nvidia-smi"
      ]
    },
    {
      "cell_type": "code",
      "source": [
        "# Clone, build and install Hashcat\n",
        "!apt install cmake build-essential -y\n",
        "!apt install checkinstall git -y\n",
        "!git clone https://github.com/hashcat/hashcat.git\n",
        "!cd hashcat && git submodule update --init && make && make install"
      ],
      "metadata": {
        "id": "dPCJPFs2DeB_"
      },
      "execution_count": null,
      "outputs": []
    },
    {
      "cell_type": "code",
      "source": [
        "!hashcat -m 0 -a 3 MD5-1.txt ?l?l?l?l?l?l?l?l"
      ],
      "metadata": {
        "id": "ctLju61aDgOt"
      },
      "execution_count": null,
      "outputs": []
    },
    {
      "cell_type": "code",
      "source": [
        "!hashcat -m 0 -a 3 MD5-2.txt ?u?l?l?l?l?l?l?d"
      ],
      "metadata": {
        "id": "c7o2WcLEYacw"
      },
      "execution_count": null,
      "outputs": []
    },
    {
      "cell_type": "code",
      "source": [
        "!hashcat -m 0 -a 3 MD5-3.txt ?u?d?l?l?l?l?l?l"
      ],
      "metadata": {
        "id": "xKELtWPAYcJN"
      },
      "execution_count": null,
      "outputs": []
    },
    {
      "cell_type": "code",
      "source": [
        "!hashcat -m 0 -a 3 MD5-4.txt ?u?u?u?u?u?u?u?u"
      ],
      "metadata": {
        "id": "XhN13xnmYdR4"
      },
      "execution_count": null,
      "outputs": []
    },
    {
      "cell_type": "code",
      "source": [
        "!hashcat -h"
      ],
      "metadata": {
        "id": "RIDRLlqIIqAk"
      },
      "execution_count": null,
      "outputs": []
    },
    {
      "cell_type": "code",
      "source": [
        "!hashcat -m 22000 wpa.hc22000 rockyou.txt"
      ],
      "metadata": {
        "id": "WBrW6G_cJODe",
        "colab": {
          "base_uri": "https://localhost:8080/"
        },
        "outputId": "4d2a25ee-8931-4b2a-c3dd-a83e3cbe3c9d"
      },
      "execution_count": null,
      "outputs": [
        {
          "output_type": "stream",
          "name": "stdout",
          "text": [
            "hashcat (v6.2.5-321-ge5b64a29d) starting\n",
            "\n",
            "\u001b[33m* Device #1: This hardware has outdated CUDA compute capability (3.7).\u001b[0m\n",
            "\u001b[33m             For modern OpenCL performance, upgrade to hardware that supports\u001b[0m\n",
            "\u001b[33m             CUDA compute capability version 5.0 (Maxwell) or higher.\u001b[0m\n",
            "\u001b[33m* Device #2: This hardware has outdated CUDA compute capability (3.7).\u001b[0m\n",
            "\u001b[33m             For modern OpenCL performance, upgrade to hardware that supports\u001b[0m\n",
            "\u001b[33m             CUDA compute capability version 5.0 (Maxwell) or higher.\u001b[0m\n",
            "\u001b[31mnvmlDeviceGetFanSpeed(): Not Supported\u001b[0m\n",
            "\n",
            "CUDA API (CUDA 11.2)\n",
            "====================\n",
            "* Device #1: Tesla K80, 11382/11441 MB, 13MCU\n",
            "\n",
            "OpenCL API (OpenCL 1.2 CUDA 11.2.109) - Platform #1 [NVIDIA Corporation]\n",
            "========================================================================\n",
            "* Device #2: Tesla K80, skipped\n",
            "\n",
            "Minimum password length supported by kernel: 8\n",
            "Maximum password length supported by kernel: 63\n",
            "\n",
            "Hashes: 3 digests; 3 unique digests, 1 unique salts\n",
            "Bitmaps: 16 bits, 65536 entries, 0x0000ffff mask, 262144 bytes, 5/13 rotates\n",
            "Rules: 1\n",
            "\n",
            "Optimizers applied:\n",
            "* Zero-Byte\n",
            "* Single-Salt\n",
            "* Slow-Hash-SIMD-LOOP\n",
            "\n",
            "Watchdog: Temperature abort trigger set to 90c\n",
            "\n",
            "Initializing backend runtime for device #1. Please be patient...tcmalloc: large alloc 1407451136 bytes == 0x5571afcd4000 @  0x7f9eeafe5001 0x5571988c45f6 0x55719890c84d 0x5571988bb26c 0x5571988bbbb2 0x5571988b6a9f 0x7f9eea217c87 0x5571988b6afa\n",
            "Host memory required for this attack: 1473 MB\n",
            "\n",
            "Dictionary cache built:\n",
            "* Filename..: rockyou.txt\n",
            "* Passwords.: 14344391\n",
            "* Bytes.....: 139921497\n",
            "* Keyspace..: 14344384\n",
            "* Runtime...: 1 sec\n",
            "\n",
            "\u001b[33mCracking performance lower than expected?\u001b[0m\n",
            "\u001b[33m\u001b[0m\n",
            "\u001b[33m* Append -w 3 to the commandline.\u001b[0m\n",
            "\u001b[33m  This can cause your screen to lag.\u001b[0m\n",
            "\u001b[33m\u001b[0m\n",
            "\u001b[33m* Append -S to the commandline.\u001b[0m\n",
            "\u001b[33m  This has a drastic speed impact but can be better for specific attacks.\u001b[0m\n",
            "\u001b[33m  Typical scenarios are a small wordlist but a large ruleset.\u001b[0m\n",
            "\u001b[33m\u001b[0m\n",
            "\u001b[33m* Update your backend API runtime / driver the right way:\u001b[0m\n",
            "\u001b[33m  https://hashcat.net/faq/wrongdriver\u001b[0m\n",
            "\u001b[33m\u001b[0m\n",
            "\u001b[33m* Create more work items to make use of your parallelization power:\u001b[0m\n",
            "\u001b[33m  https://hashcat.net/faq/morework\u001b[0m\n",
            "\u001b[33m\u001b[0m\n",
            "e88184aadec6c6326047c260a1780bd1:909a4a628324:10d56129d823:Yael-room:P4$$w0rd\n",
            "954e0ff5494e5442165316c087138af6:909a4a628324:d88adc36f70f:Yael-room:P4$$w0rd\n",
            "507da901c9053b4f2bdce590b35a1db8:909a4a628324:40a9cff59110:Yael-room:P4$$w0rd\n",
            "                                                          \n",
            "Session..........: hashcat\n",
            "Status...........: Cracked\n",
            "Hash.Mode........: 22000 (WPA-PBKDF2-PMKID+EAPOL)\n",
            "Hash.Target......: wpa.hc22000\n",
            "Time.Started.....: Fri Mar 11 20:58:45 2022 (2 mins, 32 secs)\n",
            "Time.Estimated...: Fri Mar 11 21:01:17 2022 (0 secs)\n",
            "Kernel.Feature...: Pure Kernel\n",
            "Guess.Base.......: File (rockyou.txt)\n",
            "Guess.Queue......: 1/1 (100.00%)\n",
            "Speed.#1.........:    47797 H/s (9.71ms) @ Accel:32 Loops:128 Thr:64 Vec:1\n",
            "Recovered.Total..: 3/3 (100.00%) Digests\n",
            "Progress.........: 10769452/14344384 (75.08%)\n",
            "Rejected.........: 3554348/10769452 (33.00%)\n",
            "Restore.Point....: 10730193/14344384 (74.80%)\n",
            "Restore.Sub.#1...: Salt:0 Amplifier:0-1 Iteration:2-5\n",
            "Candidate.Engine.: Device Generator\n",
            "Candidates.#1....: Pazyamor84 -> OSCAR4-EVA\n",
            "Hardware.Mon.#1..: Temp: 74c Util: 97% Core: 784MHz Mem:2505MHz Bus:16\n",
            "\n",
            "Started: Fri Mar 11 20:58:42 2022\n",
            "Stopped: Fri Mar 11 21:01:18 2022\n"
          ]
        }
      ]
    },
    {
      "cell_type": "code",
      "source": [],
      "metadata": {
        "id": "lVlxo5MtioaM"
      },
      "execution_count": null,
      "outputs": []
    }
  ]
}