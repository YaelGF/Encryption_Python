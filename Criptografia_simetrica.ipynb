{
  "nbformat": 4,
  "nbformat_minor": 0,
  "metadata": {
    "colab": {
      "provenance": [],
      "authorship_tag": "ABX9TyN4CS2pCU5RfHjSVzuNw6MP"
    },
    "kernelspec": {
      "name": "python3",
      "display_name": "Python 3"
    },
    "language_info": {
      "name": "python"
    }
  },
  "cells": [
    {
      "cell_type": "code",
      "execution_count": null,
      "metadata": {
        "colab": {
          "base_uri": "https://localhost:8080/"
        },
        "id": "_awzxPrJwIDd",
        "outputId": "089214ad-6412-4991-b0e7-e33cb524b2b2"
      },
      "outputs": [
        {
          "output_type": "stream",
          "name": "stdout",
          "text": [
            "Collecting cryptography\n",
            "  Downloading cryptography-36.0.1-cp36-abi3-manylinux_2_24_x86_64.whl (3.6 MB)\n",
            "\u001b[K     |████████████████████████████████| 3.6 MB 5.0 MB/s \n",
            "\u001b[?25hRequirement already satisfied: cffi>=1.12 in /usr/local/lib/python3.7/dist-packages (from cryptography) (1.15.0)\n",
            "Requirement already satisfied: pycparser in /usr/local/lib/python3.7/dist-packages (from cffi>=1.12->cryptography) (2.21)\n",
            "Installing collected packages: cryptography\n",
            "Successfully installed cryptography-36.0.1\n"
          ]
        }
      ],
      "source": [
        "!pip install cryptography"
      ]
    },
    {
      "cell_type": "code",
      "source": [
        "from cryptography.fernet import Fernet\n",
        "\n",
        "key = Fernet.generate_key()\n",
        "fernet = Fernet(key)\n",
        "mensaje = \"Hola mamasita\"\n",
        "mensajeS = fernet.encrypt(mensaje.encode())\n",
        "\n",
        "print(mensaje)\n",
        "print(mensajeS)"
      ],
      "metadata": {
        "colab": {
          "base_uri": "https://localhost:8080/"
        },
        "id": "keSoCHxhw6QL",
        "outputId": "ed06bb56-1544-4b76-ef9d-242265a97930"
      },
      "execution_count": null,
      "outputs": [
        {
          "output_type": "stream",
          "name": "stdout",
          "text": [
            "Hola mamasita\n",
            "b'gAAAAABh7w1JLYWlvKRF851M7Ux1ScIBVH6afoCX5gzob7Kj0eOW17t6sr_bAaw95HV5xM9_ixLTB_H-c3jenKiaWIrOzyPv9w=='\n"
          ]
        }
      ]
    },
    {
      "cell_type": "code",
      "source": [
        "#save into CSV\n",
        "import csv\n",
        "with open(\"keys.csv\",\"w+\") as f:\n",
        "  header = ['key']\n",
        "  writer = csv.DictWriter(f, fieldnames=header)\n",
        "  writer.writeheader()\n",
        "  writer.writerow({'key':key.decode('utf-8')})"
      ],
      "metadata": {
        "id": "c60B87ZwzXmq"
      },
      "execution_count": null,
      "outputs": []
    },
    {
      "cell_type": "code",
      "source": [
        "#Save message encrypted\n",
        "file = open('message.txt','wb')\n",
        "file.write(mensajeS)\n",
        "file.close()"
      ],
      "metadata": {
        "id": "cmY_xHfS0W2d"
      },
      "execution_count": null,
      "outputs": []
    },
    {
      "cell_type": "code",
      "source": [
        "#Decrypt\n",
        "message_decrypt = Fernet(key).decrypt(mensajeS).decode()\n",
        "print(message_decrypt)"
      ],
      "metadata": {
        "colab": {
          "base_uri": "https://localhost:8080/"
        },
        "id": "PCjNyhUO1N3f",
        "outputId": "b6447ea0-f15c-4686-ed8e-a947f7a36e5a"
      },
      "execution_count": null,
      "outputs": [
        {
          "output_type": "stream",
          "name": "stdout",
          "text": [
            "Hola mamasita\n"
          ]
        }
      ]
    },
    {
      "cell_type": "code",
      "source": [
        "#Decrypt since files\n",
        "from cryptography.fernet import Fernet\n",
        "import csv\n",
        "#First step load the key\n",
        "with open(\"keys.csv\") as f:\n",
        "  reader = csv.reader(f)\n",
        "  next(reader)\n",
        "  for row in reader:\n",
        "    csv_key = row[0]\n",
        "    print(Fernet(csv_key))\n",
        "\n",
        "#Second step get the message encrypted\n",
        "with open(\"messageencryted.txt\", \"rb\")as f:\n",
        "  raw_data = f.read()\n",
        "\n",
        "#Thirth step decrypt with the files\n",
        "message_decrypt = Fernet(csv_key).decrypt(raw_data).decode()\n",
        "print(message_decrypt)"
      ],
      "metadata": {
        "colab": {
          "base_uri": "https://localhost:8080/"
        },
        "id": "MMsLjp0n4WPy",
        "outputId": "dad7f124-8bbe-404e-8786-aaed94fcbe20"
      },
      "execution_count": null,
      "outputs": [
        {
          "output_type": "stream",
          "name": "stdout",
          "text": [
            "<cryptography.fernet.Fernet object at 0x7fc93ac28790>\n",
            "Hola mamasita\n"
          ]
        }
      ]
    }
  ]
}